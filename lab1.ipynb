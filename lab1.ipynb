{
 "cells": [
  {
   "cell_type": "markdown",
   "source": [
    "# Imports"
   ],
   "metadata": {
    "collapsed": false
   },
   "id": "c6bfe46d1cde6066"
  },
  {
   "cell_type": "code",
   "execution_count": 245,
   "outputs": [],
   "source": [
    "import KNN\n",
    "import optuna\n",
    "import numpy as np\n",
    "import pandas as pd\n",
    "import matplotlib.pyplot as plt\n",
    "from enum import Enum\n",
    "from math import exp, pi, sqrt\n",
    "from scipy import stats\n",
    "from random import shuffle\n",
    "from KNN import WindowType, Kernel, Metric\n",
    "from IPython.display import clear_output\n",
    "from sklearn.neighbors import NearestNeighbors, KNeighborsClassifier\n",
    "from sklearn.preprocessing import MinMaxScaler\n",
    "\n",
    "clear_output(wait=False)"
   ],
   "metadata": {
    "collapsed": false
   },
   "id": "db52b89903401918"
  },
  {
   "cell_type": "markdown",
   "source": [
    "# Normalization"
   ],
   "metadata": {
    "collapsed": false
   },
   "id": "2bb6f1f18b797439"
  },
  {
   "cell_type": "code",
   "execution_count": 246,
   "outputs": [
    {
     "data": {
      "text/plain": "     Temperature (K)  Luminosity(L/Lo)  Radius(R/Ro)  Absolute magnitude(Mv)  \\\n0               3068          0.002400        0.1700                   16.12   \n1               3042          0.000500        0.1542                   16.60   \n2               2600          0.000300        0.1020                   18.70   \n3               2800          0.000200        0.1600                   16.65   \n4               1939          0.000138        0.1030                   20.06   \n..               ...               ...           ...                     ...   \n235            38940     374830.000000     1356.0000                   -9.93   \n236            30839     834042.000000     1194.0000                  -10.63   \n237             8829     537493.000000     1423.0000                  -10.73   \n238             9235     404940.000000     1112.0000                  -11.23   \n239            37882     294903.000000     1783.0000                   -7.80   \n\n     Star type Star color Spectral Class  \n0            0        Red              M  \n1            0        Red              M  \n2            0        Red              M  \n3            0        Red              M  \n4            0        Red              M  \n..         ...        ...            ...  \n235          5       Blue              O  \n236          5       Blue              O  \n237          5      White              A  \n238          5      White              A  \n239          5       Blue              O  \n\n[240 rows x 7 columns]",
      "text/html": "<div>\n<style scoped>\n    .dataframe tbody tr th:only-of-type {\n        vertical-align: middle;\n    }\n\n    .dataframe tbody tr th {\n        vertical-align: top;\n    }\n\n    .dataframe thead th {\n        text-align: right;\n    }\n</style>\n<table border=\"1\" class=\"dataframe\">\n  <thead>\n    <tr style=\"text-align: right;\">\n      <th></th>\n      <th>Temperature (K)</th>\n      <th>Luminosity(L/Lo)</th>\n      <th>Radius(R/Ro)</th>\n      <th>Absolute magnitude(Mv)</th>\n      <th>Star type</th>\n      <th>Star color</th>\n      <th>Spectral Class</th>\n    </tr>\n  </thead>\n  <tbody>\n    <tr>\n      <th>0</th>\n      <td>3068</td>\n      <td>0.002400</td>\n      <td>0.1700</td>\n      <td>16.12</td>\n      <td>0</td>\n      <td>Red</td>\n      <td>M</td>\n    </tr>\n    <tr>\n      <th>1</th>\n      <td>3042</td>\n      <td>0.000500</td>\n      <td>0.1542</td>\n      <td>16.60</td>\n      <td>0</td>\n      <td>Red</td>\n      <td>M</td>\n    </tr>\n    <tr>\n      <th>2</th>\n      <td>2600</td>\n      <td>0.000300</td>\n      <td>0.1020</td>\n      <td>18.70</td>\n      <td>0</td>\n      <td>Red</td>\n      <td>M</td>\n    </tr>\n    <tr>\n      <th>3</th>\n      <td>2800</td>\n      <td>0.000200</td>\n      <td>0.1600</td>\n      <td>16.65</td>\n      <td>0</td>\n      <td>Red</td>\n      <td>M</td>\n    </tr>\n    <tr>\n      <th>4</th>\n      <td>1939</td>\n      <td>0.000138</td>\n      <td>0.1030</td>\n      <td>20.06</td>\n      <td>0</td>\n      <td>Red</td>\n      <td>M</td>\n    </tr>\n    <tr>\n      <th>...</th>\n      <td>...</td>\n      <td>...</td>\n      <td>...</td>\n      <td>...</td>\n      <td>...</td>\n      <td>...</td>\n      <td>...</td>\n    </tr>\n    <tr>\n      <th>235</th>\n      <td>38940</td>\n      <td>374830.000000</td>\n      <td>1356.0000</td>\n      <td>-9.93</td>\n      <td>5</td>\n      <td>Blue</td>\n      <td>O</td>\n    </tr>\n    <tr>\n      <th>236</th>\n      <td>30839</td>\n      <td>834042.000000</td>\n      <td>1194.0000</td>\n      <td>-10.63</td>\n      <td>5</td>\n      <td>Blue</td>\n      <td>O</td>\n    </tr>\n    <tr>\n      <th>237</th>\n      <td>8829</td>\n      <td>537493.000000</td>\n      <td>1423.0000</td>\n      <td>-10.73</td>\n      <td>5</td>\n      <td>White</td>\n      <td>A</td>\n    </tr>\n    <tr>\n      <th>238</th>\n      <td>9235</td>\n      <td>404940.000000</td>\n      <td>1112.0000</td>\n      <td>-11.23</td>\n      <td>5</td>\n      <td>White</td>\n      <td>A</td>\n    </tr>\n    <tr>\n      <th>239</th>\n      <td>37882</td>\n      <td>294903.000000</td>\n      <td>1783.0000</td>\n      <td>-7.80</td>\n      <td>5</td>\n      <td>Blue</td>\n      <td>O</td>\n    </tr>\n  </tbody>\n</table>\n<p>240 rows × 7 columns</p>\n</div>"
     },
     "execution_count": 246,
     "metadata": {},
     "output_type": "execute_result"
    }
   ],
   "source": [
    "# https://www.kaggle.com/datasets/deepu1109/star-dataset\n",
    "df = pd.read_csv('stars.csv')\n",
    "df"
   ],
   "metadata": {
    "collapsed": false,
    "ExecuteTime": {
     "end_time": "2024-03-18T20:40:12.020318900Z",
     "start_time": "2024-03-18T20:40:12.004896800Z"
    }
   },
   "id": "7417631878f04113"
  },
  {
   "cell_type": "code",
   "execution_count": 247,
   "outputs": [
    {
     "name": "stdout",
     "output_type": "stream",
     "text": [
      "<class 'pandas.core.frame.DataFrame'>\n",
      "RangeIndex: 240 entries, 0 to 239\n",
      "Data columns (total 7 columns):\n",
      " #   Column                  Non-Null Count  Dtype  \n",
      "---  ------                  --------------  -----  \n",
      " 0   Temperature (K)         240 non-null    int64  \n",
      " 1   Luminosity(L/Lo)        240 non-null    float64\n",
      " 2   Radius(R/Ro)            240 non-null    float64\n",
      " 3   Absolute magnitude(Mv)  240 non-null    float64\n",
      " 4   Star type               240 non-null    int64  \n",
      " 5   Star color              240 non-null    object \n",
      " 6   Spectral Class          240 non-null    object \n",
      "dtypes: float64(3), int64(2), object(2)\n",
      "memory usage: 13.3+ KB\n"
     ]
    }
   ],
   "source": [
    "df.info()"
   ],
   "metadata": {
    "collapsed": false,
    "ExecuteTime": {
     "end_time": "2024-03-18T20:40:12.381964Z",
     "start_time": "2024-03-18T20:40:12.369022200Z"
    }
   },
   "id": "9657f6a79139953f"
  },
  {
   "cell_type": "code",
   "execution_count": 248,
   "outputs": [],
   "source": [
    "df['Star color'] = df['Star color'].rank(method='dense', ascending=False).astype(float)\n",
    "df['Spectral Class'] = df['Spectral Class'].rank(method='dense', ascending=False).astype(float)\n",
    "df['Temperature (K)'] = df['Temperature (K)'].astype(float)"
   ],
   "metadata": {
    "collapsed": false,
    "ExecuteTime": {
     "end_time": "2024-03-18T20:40:12.840455500Z",
     "start_time": "2024-03-18T20:40:12.829423600Z"
    }
   },
   "id": "6fec7374a80466ee"
  },
  {
   "cell_type": "code",
   "execution_count": 249,
   "outputs": [
    {
     "name": "stdout",
     "output_type": "stream",
     "text": [
      "<class 'pandas.core.frame.DataFrame'>\n",
      "RangeIndex: 240 entries, 0 to 239\n",
      "Data columns (total 7 columns):\n",
      " #   Column                  Non-Null Count  Dtype  \n",
      "---  ------                  --------------  -----  \n",
      " 0   Temperature (K)         240 non-null    float64\n",
      " 1   Luminosity(L/Lo)        240 non-null    float64\n",
      " 2   Radius(R/Ro)            240 non-null    float64\n",
      " 3   Absolute magnitude(Mv)  240 non-null    float64\n",
      " 4   Star type               240 non-null    int64  \n",
      " 5   Star color              240 non-null    float64\n",
      " 6   Spectral Class          240 non-null    float64\n",
      "dtypes: float64(6), int64(1)\n",
      "memory usage: 13.3 KB\n"
     ]
    }
   ],
   "source": [
    "df.info()"
   ],
   "metadata": {
    "collapsed": false,
    "ExecuteTime": {
     "end_time": "2024-03-18T20:40:13.015110900Z",
     "start_time": "2024-03-18T20:40:13.002510800Z"
    }
   },
   "id": "22f1089f9b98d062"
  },
  {
   "cell_type": "code",
   "execution_count": 250,
   "outputs": [
    {
     "data": {
      "text/plain": "Star type\n0    40\n1    40\n2    40\n3    40\n4    40\n5    40\nName: count, dtype: int64"
     },
     "execution_count": 250,
     "metadata": {},
     "output_type": "execute_result"
    }
   ],
   "source": [
    "df[\"Star type\"].value_counts()"
   ],
   "metadata": {
    "collapsed": false,
    "ExecuteTime": {
     "end_time": "2024-03-18T20:40:13.191316500Z",
     "start_time": "2024-03-18T20:40:13.165564100Z"
    }
   },
   "id": "170abd061607be1e"
  },
  {
   "cell_type": "code",
   "execution_count": 251,
   "outputs": [],
   "source": [
    "columns_to_normalize = [\n",
    "    \"Temperature (K)\",\n",
    "    \"Luminosity(L/Lo)\",\n",
    "    \"Radius(R/Ro)\",\n",
    "    \"Absolute magnitude(Mv)\",\n",
    "    \"Star color\",\n",
    "    \"Spectral Class\"\n",
    "]\n",
    "\n",
    "scaler = MinMaxScaler()\n",
    "\n",
    "for col in columns_to_normalize:\n",
    "    df[col] = df[col].map(lambda x: x + 0.1)\n",
    "    df[col] = scaler.fit_transform(df[[col]])"
   ],
   "metadata": {
    "collapsed": false,
    "ExecuteTime": {
     "end_time": "2024-03-18T20:40:13.509098Z",
     "start_time": "2024-03-18T20:40:13.494183600Z"
    }
   },
   "id": "35f37072014f102d"
  },
  {
   "cell_type": "code",
   "execution_count": 252,
   "outputs": [
    {
     "data": {
      "text/plain": "     Temperature (K)  Luminosity(L/Lo)  Radius(R/Ro)  Absolute magnitude(Mv)  \\\n0           0.029663      2.731275e-09      0.000083                0.876798   \n1           0.028980      4.944550e-10      0.000075                0.891807   \n2           0.017367      2.590003e-10      0.000048                0.957473   \n3           0.022622      1.412729e-10      0.000078                0.893371   \n4           0.000000      6.828189e-11      0.000049                1.000000   \n..               ...               ...           ...                     ...   \n235         0.972150      4.412776e-01      0.695919                0.062226   \n236         0.759307      9.818959e-01      0.612777                0.040338   \n237         0.181025      6.327765e-01      0.730304                0.037211   \n238         0.191692      4.767253e-01      0.570694                0.021576   \n239         0.944352      3.471816e-01      0.915063                0.128831   \n\n     Star type  Star color  Spectral Class  \n0            0    0.444444        0.166667  \n1            0    0.444444        0.166667  \n2            0    0.444444        0.166667  \n3            0    0.444444        0.166667  \n4            0    0.444444        0.166667  \n..         ...         ...             ...  \n235          5    1.000000        0.000000  \n236          5    1.000000        0.000000  \n237          5    0.388889        1.000000  \n238          5    0.388889        1.000000  \n239          5    1.000000        0.000000  \n\n[240 rows x 7 columns]",
      "text/html": "<div>\n<style scoped>\n    .dataframe tbody tr th:only-of-type {\n        vertical-align: middle;\n    }\n\n    .dataframe tbody tr th {\n        vertical-align: top;\n    }\n\n    .dataframe thead th {\n        text-align: right;\n    }\n</style>\n<table border=\"1\" class=\"dataframe\">\n  <thead>\n    <tr style=\"text-align: right;\">\n      <th></th>\n      <th>Temperature (K)</th>\n      <th>Luminosity(L/Lo)</th>\n      <th>Radius(R/Ro)</th>\n      <th>Absolute magnitude(Mv)</th>\n      <th>Star type</th>\n      <th>Star color</th>\n      <th>Spectral Class</th>\n    </tr>\n  </thead>\n  <tbody>\n    <tr>\n      <th>0</th>\n      <td>0.029663</td>\n      <td>2.731275e-09</td>\n      <td>0.000083</td>\n      <td>0.876798</td>\n      <td>0</td>\n      <td>0.444444</td>\n      <td>0.166667</td>\n    </tr>\n    <tr>\n      <th>1</th>\n      <td>0.028980</td>\n      <td>4.944550e-10</td>\n      <td>0.000075</td>\n      <td>0.891807</td>\n      <td>0</td>\n      <td>0.444444</td>\n      <td>0.166667</td>\n    </tr>\n    <tr>\n      <th>2</th>\n      <td>0.017367</td>\n      <td>2.590003e-10</td>\n      <td>0.000048</td>\n      <td>0.957473</td>\n      <td>0</td>\n      <td>0.444444</td>\n      <td>0.166667</td>\n    </tr>\n    <tr>\n      <th>3</th>\n      <td>0.022622</td>\n      <td>1.412729e-10</td>\n      <td>0.000078</td>\n      <td>0.893371</td>\n      <td>0</td>\n      <td>0.444444</td>\n      <td>0.166667</td>\n    </tr>\n    <tr>\n      <th>4</th>\n      <td>0.000000</td>\n      <td>6.828189e-11</td>\n      <td>0.000049</td>\n      <td>1.000000</td>\n      <td>0</td>\n      <td>0.444444</td>\n      <td>0.166667</td>\n    </tr>\n    <tr>\n      <th>...</th>\n      <td>...</td>\n      <td>...</td>\n      <td>...</td>\n      <td>...</td>\n      <td>...</td>\n      <td>...</td>\n      <td>...</td>\n    </tr>\n    <tr>\n      <th>235</th>\n      <td>0.972150</td>\n      <td>4.412776e-01</td>\n      <td>0.695919</td>\n      <td>0.062226</td>\n      <td>5</td>\n      <td>1.000000</td>\n      <td>0.000000</td>\n    </tr>\n    <tr>\n      <th>236</th>\n      <td>0.759307</td>\n      <td>9.818959e-01</td>\n      <td>0.612777</td>\n      <td>0.040338</td>\n      <td>5</td>\n      <td>1.000000</td>\n      <td>0.000000</td>\n    </tr>\n    <tr>\n      <th>237</th>\n      <td>0.181025</td>\n      <td>6.327765e-01</td>\n      <td>0.730304</td>\n      <td>0.037211</td>\n      <td>5</td>\n      <td>0.388889</td>\n      <td>1.000000</td>\n    </tr>\n    <tr>\n      <th>238</th>\n      <td>0.191692</td>\n      <td>4.767253e-01</td>\n      <td>0.570694</td>\n      <td>0.021576</td>\n      <td>5</td>\n      <td>0.388889</td>\n      <td>1.000000</td>\n    </tr>\n    <tr>\n      <th>239</th>\n      <td>0.944352</td>\n      <td>3.471816e-01</td>\n      <td>0.915063</td>\n      <td>0.128831</td>\n      <td>5</td>\n      <td>1.000000</td>\n      <td>0.000000</td>\n    </tr>\n  </tbody>\n</table>\n<p>240 rows × 7 columns</p>\n</div>"
     },
     "execution_count": 252,
     "metadata": {},
     "output_type": "execute_result"
    }
   ],
   "source": [
    "df"
   ],
   "metadata": {
    "collapsed": false,
    "ExecuteTime": {
     "end_time": "2024-03-18T20:40:13.700830100Z",
     "start_time": "2024-03-18T20:40:13.691668900Z"
    }
   },
   "id": "d9c99cd52615cef"
  },
  {
   "cell_type": "markdown",
   "source": [
    "# My KNN"
   ],
   "metadata": {
    "collapsed": false
   },
   "id": "4718bc35b86e6b2f"
  },
  {
   "cell_type": "code",
   "execution_count": 253,
   "outputs": [
    {
     "name": "stdout",
     "output_type": "stream",
     "text": [
      "train/test size  144 96\n"
     ]
    },
    {
     "name": "stderr",
     "output_type": "stream",
     "text": [
      "C:\\Users\\swerc\\AppData\\Local\\Packages\\PythonSoftwareFoundation.Python.3.11_qbz5n2kfra8p0\\LocalCache\\local-packages\\Python311\\site-packages\\numpy\\core\\fromnumeric.py:57: FutureWarning: 'DataFrame.swapaxes' is deprecated and will be removed in a future version. Please use 'DataFrame.transpose' instead.\n",
      "  return bound(*args, **kwds)\n"
     ]
    }
   ],
   "source": [
    "train, test = np.split(df.sample(frac=1, random_state=17), [int(.6 * len(df))])\n",
    "print(\"train/test size \", len(train), len(test))\n",
    "X_train = train.drop(columns=[\"Star type\"])\n",
    "X_test = test.drop(columns=[\"Star type\"])\n",
    "y_train = train[\"Star type\"]\n",
    "y_test = test[\"Star type\"]"
   ],
   "metadata": {
    "collapsed": false,
    "ExecuteTime": {
     "end_time": "2024-03-18T20:40:14.575244900Z",
     "start_time": "2024-03-18T20:40:14.548212200Z"
    }
   },
   "id": "d0c673bc8a942817"
  },
  {
   "cell_type": "code",
   "execution_count": 254,
   "outputs": [
    {
     "data": {
      "text/plain": "0    18\n2    18\n4    18\n3    15\n1    14\n5    13\nName: count, dtype: int64"
     },
     "execution_count": 254,
     "metadata": {},
     "output_type": "execute_result"
    }
   ],
   "source": [
    "knn = KNN.KNN(window_param=10, window_type=KNN.WindowType.VARIABLE, kernel=KNN.Kernel.UNIFORM, metric=KNN.Metric.EUCLIDEAN)\n",
    "default_weights = [1 for _ in range(len(X_train))]\n",
    "predictions = knn.fit(X_train, y_train, default_weights).predict(X_test)\n",
    "pd.DataFrame(predictions).value_counts()"
   ],
   "metadata": {
    "collapsed": false,
    "ExecuteTime": {
     "end_time": "2024-03-18T20:40:14.914024900Z",
     "start_time": "2024-03-18T20:40:14.882037100Z"
    }
   },
   "id": "e5113ca45f32d3c0"
  },
  {
   "cell_type": "code",
   "execution_count": 255,
   "outputs": [
    {
     "name": "stdout",
     "output_type": "stream",
     "text": [
      "Accuracy:  96.875\n"
     ]
    }
   ],
   "source": [
    "y_test_list = y_test.to_list()\n",
    "correct = 0\n",
    "for i in range(len(y_test_list)):\n",
    "    if y_test_list[i] == predictions[i]:\n",
    "        correct += 1\n",
    "accuracy = correct / len(y_test_list) * 100\n",
    "print(\"Accuracy: \", accuracy)"
   ],
   "metadata": {
    "collapsed": false,
    "ExecuteTime": {
     "end_time": "2024-03-18T20:40:15.226876200Z",
     "start_time": "2024-03-18T20:40:15.221076400Z"
    }
   },
   "id": "13a1c22c3aff8791"
  },
  {
   "cell_type": "markdown",
   "source": [
    "# Sklearn KNN"
   ],
   "metadata": {
    "collapsed": false
   },
   "id": "6e0197fea709f923"
  },
  {
   "cell_type": "code",
   "execution_count": 256,
   "outputs": [
    {
     "name": "stdout",
     "output_type": "stream",
     "text": [
      "Accuracy:  96.875\n"
     ]
    }
   ],
   "source": [
    "library_predictions = KNeighborsClassifier(n_neighbors=10).fit(X_train, y_train).predict(X_test)\n",
    "y_test_list = y_test.to_list()\n",
    "correct = 0\n",
    "for i in range(len(y_test_list)):\n",
    "    if y_test_list[i] == predictions[i]:\n",
    "        correct += 1\n",
    "accuracy = correct / len(y_test_list) * 100\n",
    "print(\"Accuracy: \", accuracy)"
   ],
   "metadata": {
    "collapsed": false,
    "ExecuteTime": {
     "end_time": "2024-03-18T20:40:16.166152100Z",
     "start_time": "2024-03-18T20:40:16.150957800Z"
    }
   },
   "id": "a32bf97d498ca881"
  },
  {
   "cell_type": "markdown",
   "source": [
    "# Hyperparameter tuning"
   ],
   "metadata": {
    "collapsed": false
   },
   "id": "1364056cc22718c"
  },
  {
   "cell_type": "code",
   "execution_count": 257,
   "outputs": [
    {
     "name": "stderr",
     "output_type": "stream",
     "text": [
      "[I 2024-03-18 23:40:16,875] A new study created in memory with name: no-name-5054df85-6de0-45be-a9ca-f9850b684d2c\n",
      "[I 2024-03-18 23:40:16,905] Trial 0 finished with value: 93.75 and parameters: {'h': 0.3624758830641581, 'Kernel': 'uniform', 'Metric': 'manhattan'}. Best is trial 0 with value: 93.75.\n",
      "[I 2024-03-18 23:40:16,933] Trial 1 finished with value: 96.875 and parameters: {'h': 0.873532985393348, 'Kernel': 'triangular', 'Metric': 'euclidean'}. Best is trial 1 with value: 96.875.\n",
      "[I 2024-03-18 23:40:16,963] Trial 2 finished with value: 95.83333333333334 and parameters: {'h': 0.8064135773185547, 'Kernel': 'uniform', 'Metric': 'euclidean'}. Best is trial 1 with value: 96.875.\n",
      "[I 2024-03-18 23:40:16,990] Trial 3 finished with value: 92.70833333333334 and parameters: {'h': 0.5515304159165053, 'Kernel': 'gaussian', 'Metric': 'cosine'}. Best is trial 1 with value: 96.875.\n",
      "[I 2024-03-18 23:40:17,019] Trial 4 finished with value: 75.0 and parameters: {'h': 0.11075695812109229, 'Kernel': 'triangular', 'Metric': 'manhattan'}. Best is trial 1 with value: 96.875.\n",
      "[I 2024-03-18 23:40:17,048] Trial 5 finished with value: 98.95833333333334 and parameters: {'h': 0.6297691733135026, 'Kernel': 'triangular', 'Metric': 'manhattan'}. Best is trial 5 with value: 98.95833333333334.\n",
      "[I 2024-03-18 23:40:17,075] Trial 6 finished with value: 97.91666666666666 and parameters: {'h': 0.80458374337981, 'Kernel': 'triangular', 'Metric': 'manhattan'}. Best is trial 5 with value: 98.95833333333334.\n",
      "[I 2024-03-18 23:40:17,102] Trial 7 finished with value: 97.91666666666666 and parameters: {'h': 0.38856942356299956, 'Kernel': 'triangular', 'Metric': 'euclidean'}. Best is trial 5 with value: 98.95833333333334.\n",
      "[I 2024-03-18 23:40:17,133] Trial 8 finished with value: 92.70833333333334 and parameters: {'h': 0.9831867615721233, 'Kernel': 'gaussian', 'Metric': 'cosine'}. Best is trial 5 with value: 98.95833333333334.\n",
      "[I 2024-03-18 23:40:17,166] Trial 9 finished with value: 95.83333333333334 and parameters: {'h': 0.2876326358853838, 'Kernel': 'triangular', 'Metric': 'euclidean'}. Best is trial 5 with value: 98.95833333333334.\n",
      "[I 2024-03-18 23:40:17,213] Trial 10 finished with value: 97.91666666666666 and parameters: {'h': 0.617023916818387, 'Kernel': 'epanechnikov', 'Metric': 'manhattan'}. Best is trial 5 with value: 98.95833333333334.\n",
      "[I 2024-03-18 23:40:17,247] Trial 11 finished with value: 98.95833333333334 and parameters: {'h': 0.7130814470084748, 'Kernel': 'triangular', 'Metric': 'manhattan'}. Best is trial 5 with value: 98.95833333333334.\n",
      "[I 2024-03-18 23:40:17,281] Trial 12 finished with value: 97.91666666666666 and parameters: {'h': 0.6739651309012167, 'Kernel': 'epanechnikov', 'Metric': 'manhattan'}. Best is trial 5 with value: 98.95833333333334.\n",
      "[I 2024-03-18 23:40:17,315] Trial 13 finished with value: 98.95833333333334 and parameters: {'h': 0.6631079434563615, 'Kernel': 'triangular', 'Metric': 'manhattan'}. Best is trial 5 with value: 98.95833333333334.\n",
      "[I 2024-03-18 23:40:17,348] Trial 14 finished with value: 95.83333333333334 and parameters: {'h': 0.4779883007015173, 'Kernel': 'triangular', 'Metric': 'manhattan'}. Best is trial 5 with value: 98.95833333333334.\n",
      "[I 2024-03-18 23:40:17,381] Trial 15 finished with value: 98.95833333333334 and parameters: {'h': 0.7251440030832578, 'Kernel': 'triangular', 'Metric': 'manhattan'}. Best is trial 5 with value: 98.95833333333334.\n",
      "[I 2024-03-18 23:40:17,412] Trial 16 finished with value: 92.70833333333334 and parameters: {'h': 0.508248321764788, 'Kernel': 'uniform', 'Metric': 'cosine'}. Best is trial 5 with value: 98.95833333333334.\n",
      "[I 2024-03-18 23:40:17,446] Trial 17 finished with value: 97.91666666666666 and parameters: {'h': 0.9797523595869317, 'Kernel': 'epanechnikov', 'Metric': 'manhattan'}. Best is trial 5 with value: 98.95833333333334.\n",
      "[I 2024-03-18 23:40:17,483] Trial 18 finished with value: 100.0 and parameters: {'h': 0.15078779366411887, 'Kernel': 'gaussian', 'Metric': 'manhattan'}. Best is trial 18 with value: 100.0.\n",
      "[I 2024-03-18 23:40:17,514] Trial 19 finished with value: 96.875 and parameters: {'h': 0.021705504378867452, 'Kernel': 'gaussian', 'Metric': 'cosine'}. Best is trial 18 with value: 100.0.\n",
      "[I 2024-03-18 23:40:17,545] Trial 20 finished with value: 100.0 and parameters: {'h': 0.1863419096172214, 'Kernel': 'gaussian', 'Metric': 'manhattan'}. Best is trial 18 with value: 100.0.\n",
      "[I 2024-03-18 23:40:17,580] Trial 21 finished with value: 100.0 and parameters: {'h': 0.20259915848605953, 'Kernel': 'gaussian', 'Metric': 'manhattan'}. Best is trial 18 with value: 100.0.\n",
      "[I 2024-03-18 23:40:17,617] Trial 22 finished with value: 100.0 and parameters: {'h': 0.19971439765595525, 'Kernel': 'gaussian', 'Metric': 'manhattan'}. Best is trial 18 with value: 100.0.\n",
      "[I 2024-03-18 23:40:17,652] Trial 23 finished with value: 100.0 and parameters: {'h': 0.18455938072475248, 'Kernel': 'gaussian', 'Metric': 'manhattan'}. Best is trial 18 with value: 100.0.\n",
      "[I 2024-03-18 23:40:17,687] Trial 24 finished with value: 100.0 and parameters: {'h': 0.02433587590200617, 'Kernel': 'gaussian', 'Metric': 'manhattan'}. Best is trial 18 with value: 100.0.\n",
      "[I 2024-03-18 23:40:17,726] Trial 25 finished with value: 100.0 and parameters: {'h': 0.22467306522609493, 'Kernel': 'gaussian', 'Metric': 'manhattan'}. Best is trial 18 with value: 100.0.\n",
      "[I 2024-03-18 23:40:17,760] Trial 26 finished with value: 100.0 and parameters: {'h': 0.11598163380758493, 'Kernel': 'gaussian', 'Metric': 'manhattan'}. Best is trial 18 with value: 100.0.\n",
      "[I 2024-03-18 23:40:17,799] Trial 27 finished with value: 100.0 and parameters: {'h': 0.2987169533869203, 'Kernel': 'gaussian', 'Metric': 'manhattan'}. Best is trial 18 with value: 100.0.\n",
      "[I 2024-03-18 23:40:17,829] Trial 28 finished with value: 92.70833333333334 and parameters: {'h': 0.1044249889475087, 'Kernel': 'gaussian', 'Metric': 'cosine'}. Best is trial 18 with value: 100.0.\n",
      "[I 2024-03-18 23:40:17,861] Trial 29 finished with value: 96.875 and parameters: {'h': 0.3947405076038353, 'Kernel': 'uniform', 'Metric': 'euclidean'}. Best is trial 18 with value: 100.0.\n",
      "[I 2024-03-18 23:40:17,896] Trial 30 finished with value: 100.0 and parameters: {'h': 0.3031265292276293, 'Kernel': 'gaussian', 'Metric': 'manhattan'}. Best is trial 18 with value: 100.0.\n",
      "[I 2024-03-18 23:40:17,931] Trial 31 finished with value: 100.0 and parameters: {'h': 0.2054595405021664, 'Kernel': 'gaussian', 'Metric': 'manhattan'}. Best is trial 18 with value: 100.0.\n",
      "[I 2024-03-18 23:40:17,964] Trial 32 finished with value: 100.0 and parameters: {'h': 0.1641989615532609, 'Kernel': 'gaussian', 'Metric': 'manhattan'}. Best is trial 18 with value: 100.0.\n",
      "[I 2024-03-18 23:40:17,995] Trial 33 finished with value: 100.0 and parameters: {'h': 0.24427175893797493, 'Kernel': 'gaussian', 'Metric': 'manhattan'}. Best is trial 18 with value: 100.0.\n",
      "[I 2024-03-18 23:40:18,028] Trial 34 finished with value: 96.875 and parameters: {'h': 0.33896267664445834, 'Kernel': 'gaussian', 'Metric': 'euclidean'}. Best is trial 18 with value: 100.0.\n",
      "[I 2024-03-18 23:40:18,060] Trial 35 finished with value: 100.0 and parameters: {'h': 0.06138410158036711, 'Kernel': 'gaussian', 'Metric': 'manhattan'}. Best is trial 18 with value: 100.0.\n",
      "[I 2024-03-18 23:40:18,094] Trial 36 finished with value: 78.125 and parameters: {'h': 0.13670956959861386, 'Kernel': 'uniform', 'Metric': 'manhattan'}. Best is trial 18 with value: 100.0.\n",
      "[I 2024-03-18 23:40:18,129] Trial 37 finished with value: 100.0 and parameters: {'h': 0.26516846863607646, 'Kernel': 'gaussian', 'Metric': 'manhattan'}. Best is trial 18 with value: 100.0.\n",
      "[I 2024-03-18 23:40:18,164] Trial 38 finished with value: 96.875 and parameters: {'h': 0.46385439040869253, 'Kernel': 'gaussian', 'Metric': 'euclidean'}. Best is trial 18 with value: 100.0.\n",
      "[I 2024-03-18 23:40:18,195] Trial 39 finished with value: 94.79166666666666 and parameters: {'h': 0.0758540807560883, 'Kernel': 'epanechnikov', 'Metric': 'cosine'}. Best is trial 18 with value: 100.0.\n",
      "[I 2024-03-18 23:40:18,226] Trial 40 finished with value: 98.95833333333334 and parameters: {'h': 0.3547327196920648, 'Kernel': 'gaussian', 'Metric': 'manhattan'}. Best is trial 18 with value: 100.0.\n",
      "[I 2024-03-18 23:40:18,260] Trial 41 finished with value: 100.0 and parameters: {'h': 0.18203714421622588, 'Kernel': 'gaussian', 'Metric': 'manhattan'}. Best is trial 18 with value: 100.0.\n",
      "[I 2024-03-18 23:40:18,293] Trial 42 finished with value: 100.0 and parameters: {'h': 0.19011894285710207, 'Kernel': 'gaussian', 'Metric': 'manhattan'}. Best is trial 18 with value: 100.0.\n",
      "[I 2024-03-18 23:40:18,327] Trial 43 finished with value: 100.0 and parameters: {'h': 0.15504387472637415, 'Kernel': 'gaussian', 'Metric': 'manhattan'}. Best is trial 18 with value: 100.0.\n",
      "[I 2024-03-18 23:40:18,361] Trial 44 finished with value: 100.0 and parameters: {'h': 0.2421759220838379, 'Kernel': 'gaussian', 'Metric': 'manhattan'}. Best is trial 18 with value: 100.0.\n",
      "[I 2024-03-18 23:40:18,394] Trial 45 finished with value: 97.91666666666666 and parameters: {'h': 0.4261321557170352, 'Kernel': 'gaussian', 'Metric': 'manhattan'}. Best is trial 18 with value: 100.0.\n",
      "[I 2024-03-18 23:40:18,428] Trial 46 finished with value: 66.66666666666666 and parameters: {'h': 0.08802894808600868, 'Kernel': 'uniform', 'Metric': 'manhattan'}. Best is trial 18 with value: 100.0.\n",
      "[I 2024-03-18 23:40:18,462] Trial 47 finished with value: 96.875 and parameters: {'h': 0.32230384248982563, 'Kernel': 'gaussian', 'Metric': 'euclidean'}. Best is trial 18 with value: 100.0.\n",
      "[I 2024-03-18 23:40:18,501] Trial 48 finished with value: 78.125 and parameters: {'h': 0.13451725839860457, 'Kernel': 'epanechnikov', 'Metric': 'manhattan'}. Best is trial 18 with value: 100.0.\n",
      "[I 2024-03-18 23:40:18,537] Trial 49 finished with value: 100.0 and parameters: {'h': 0.26906945114541075, 'Kernel': 'gaussian', 'Metric': 'manhattan'}. Best is trial 18 with value: 100.0.\n",
      "[I 2024-03-18 23:40:18,572] Trial 50 finished with value: 92.70833333333334 and parameters: {'h': 0.2124384621103237, 'Kernel': 'gaussian', 'Metric': 'cosine'}. Best is trial 18 with value: 100.0.\n",
      "[I 2024-03-18 23:40:18,605] Trial 51 finished with value: 100.0 and parameters: {'h': 0.06229899091689614, 'Kernel': 'gaussian', 'Metric': 'manhattan'}. Best is trial 18 with value: 100.0.\n",
      "[I 2024-03-18 23:40:18,639] Trial 52 finished with value: 96.875 and parameters: {'h': 0.013088741615973397, 'Kernel': 'gaussian', 'Metric': 'manhattan'}. Best is trial 18 with value: 100.0.\n",
      "[I 2024-03-18 23:40:18,672] Trial 53 finished with value: 100.0 and parameters: {'h': 0.04506673721894289, 'Kernel': 'gaussian', 'Metric': 'manhattan'}. Best is trial 18 with value: 100.0.\n",
      "[I 2024-03-18 23:40:18,707] Trial 54 finished with value: 100.0 and parameters: {'h': 0.1649565126387345, 'Kernel': 'gaussian', 'Metric': 'manhattan'}. Best is trial 18 with value: 100.0.\n",
      "[I 2024-03-18 23:40:18,740] Trial 55 finished with value: 100.0 and parameters: {'h': 0.13068565903550527, 'Kernel': 'gaussian', 'Metric': 'manhattan'}. Best is trial 18 with value: 100.0.\n",
      "[I 2024-03-18 23:40:18,771] Trial 56 finished with value: 75.0 and parameters: {'h': 0.10452963105922625, 'Kernel': 'epanechnikov', 'Metric': 'manhattan'}. Best is trial 18 with value: 100.0.\n",
      "[I 2024-03-18 23:40:18,806] Trial 57 finished with value: 97.91666666666666 and parameters: {'h': 0.5414990369772625, 'Kernel': 'triangular', 'Metric': 'manhattan'}. Best is trial 18 with value: 100.0.\n",
      "[I 2024-03-18 23:40:18,838] Trial 58 finished with value: 47.91666666666667 and parameters: {'h': 0.04525094328219474, 'Kernel': 'uniform', 'Metric': 'manhattan'}. Best is trial 18 with value: 100.0.\n",
      "[I 2024-03-18 23:40:18,872] Trial 59 finished with value: 92.70833333333334 and parameters: {'h': 0.3837413036526007, 'Kernel': 'gaussian', 'Metric': 'cosine'}. Best is trial 18 with value: 100.0.\n",
      "[I 2024-03-18 23:40:18,908] Trial 60 finished with value: 100.0 and parameters: {'h': 0.22097101232374655, 'Kernel': 'gaussian', 'Metric': 'manhattan'}. Best is trial 18 with value: 100.0.\n",
      "[I 2024-03-18 23:40:18,947] Trial 61 finished with value: 100.0 and parameters: {'h': 0.23547612817506192, 'Kernel': 'gaussian', 'Metric': 'manhattan'}. Best is trial 18 with value: 100.0.\n",
      "[I 2024-03-18 23:40:18,984] Trial 62 finished with value: 100.0 and parameters: {'h': 0.19375119625273904, 'Kernel': 'gaussian', 'Metric': 'manhattan'}. Best is trial 18 with value: 100.0.\n",
      "[I 2024-03-18 23:40:19,018] Trial 63 finished with value: 100.0 and parameters: {'h': 0.27567702884759193, 'Kernel': 'gaussian', 'Metric': 'manhattan'}. Best is trial 18 with value: 100.0.\n",
      "[I 2024-03-18 23:40:19,055] Trial 64 finished with value: 100.0 and parameters: {'h': 0.15051008251430495, 'Kernel': 'gaussian', 'Metric': 'manhattan'}. Best is trial 18 with value: 100.0.\n",
      "[I 2024-03-18 23:40:19,095] Trial 65 finished with value: 96.875 and parameters: {'h': 0.8683870999972945, 'Kernel': 'gaussian', 'Metric': 'euclidean'}. Best is trial 18 with value: 100.0.\n",
      "[I 2024-03-18 23:40:19,128] Trial 66 finished with value: 72.91666666666666 and parameters: {'h': 0.09956840584753418, 'Kernel': 'triangular', 'Metric': 'manhattan'}. Best is trial 18 with value: 100.0.\n",
      "[I 2024-03-18 23:40:19,164] Trial 67 finished with value: 100.0 and parameters: {'h': 0.17746036980165833, 'Kernel': 'gaussian', 'Metric': 'manhattan'}. Best is trial 18 with value: 100.0.\n",
      "[I 2024-03-18 23:40:19,200] Trial 68 finished with value: 100.0 and parameters: {'h': 0.30085919104605807, 'Kernel': 'gaussian', 'Metric': 'manhattan'}. Best is trial 18 with value: 100.0.\n",
      "[I 2024-03-18 23:40:19,234] Trial 69 finished with value: 100.0 and parameters: {'h': 0.23764404846873738, 'Kernel': 'gaussian', 'Metric': 'manhattan'}. Best is trial 18 with value: 100.0.\n",
      "[I 2024-03-18 23:40:19,268] Trial 70 finished with value: 95.83333333333334 and parameters: {'h': 0.03077878013634114, 'Kernel': 'uniform', 'Metric': 'cosine'}. Best is trial 18 with value: 100.0.\n",
      "[I 2024-03-18 23:40:19,302] Trial 71 finished with value: 100.0 and parameters: {'h': 0.08849340261015738, 'Kernel': 'gaussian', 'Metric': 'manhattan'}. Best is trial 18 with value: 100.0.\n",
      "[I 2024-03-18 23:40:19,335] Trial 72 finished with value: 100.0 and parameters: {'h': 0.14139620962726834, 'Kernel': 'gaussian', 'Metric': 'manhattan'}. Best is trial 18 with value: 100.0.\n",
      "[I 2024-03-18 23:40:19,370] Trial 73 finished with value: 100.0 and parameters: {'h': 0.11945530837508249, 'Kernel': 'gaussian', 'Metric': 'manhattan'}. Best is trial 18 with value: 100.0.\n",
      "[I 2024-03-18 23:40:19,406] Trial 74 finished with value: 100.0 and parameters: {'h': 0.1962105894424407, 'Kernel': 'gaussian', 'Metric': 'manhattan'}. Best is trial 18 with value: 100.0.\n",
      "[I 2024-03-18 23:40:19,441] Trial 75 finished with value: 60.416666666666664 and parameters: {'h': 0.06551695517281492, 'Kernel': 'epanechnikov', 'Metric': 'manhattan'}. Best is trial 18 with value: 100.0.\n",
      "[I 2024-03-18 23:40:19,478] Trial 76 finished with value: 97.91666666666666 and parameters: {'h': 0.25765145722501104, 'Kernel': 'gaussian', 'Metric': 'euclidean'}. Best is trial 18 with value: 100.0.\n",
      "[I 2024-03-18 23:40:19,517] Trial 77 finished with value: 100.0 and parameters: {'h': 0.1715343871322174, 'Kernel': 'gaussian', 'Metric': 'manhattan'}. Best is trial 18 with value: 100.0.\n",
      "[I 2024-03-18 23:40:19,552] Trial 78 finished with value: 100.0 and parameters: {'h': 0.1168863338395474, 'Kernel': 'gaussian', 'Metric': 'manhattan'}. Best is trial 18 with value: 100.0.\n",
      "[I 2024-03-18 23:40:19,587] Trial 79 finished with value: 98.95833333333334 and parameters: {'h': 0.3213816120984422, 'Kernel': 'gaussian', 'Metric': 'manhattan'}. Best is trial 18 with value: 100.0.\n",
      "[I 2024-03-18 23:40:19,622] Trial 80 finished with value: 89.58333333333334 and parameters: {'h': 0.22916442067751924, 'Kernel': 'triangular', 'Metric': 'manhattan'}. Best is trial 18 with value: 100.0.\n",
      "[I 2024-03-18 23:40:19,656] Trial 81 finished with value: 100.0 and parameters: {'h': 0.20989283472091652, 'Kernel': 'gaussian', 'Metric': 'manhattan'}. Best is trial 18 with value: 100.0.\n",
      "[I 2024-03-18 23:40:19,688] Trial 82 finished with value: 100.0 and parameters: {'h': 0.2882814531670228, 'Kernel': 'gaussian', 'Metric': 'manhattan'}. Best is trial 18 with value: 100.0.\n",
      "[I 2024-03-18 23:40:19,722] Trial 83 finished with value: 100.0 and parameters: {'h': 0.17008651582117096, 'Kernel': 'gaussian', 'Metric': 'manhattan'}. Best is trial 18 with value: 100.0.\n",
      "[I 2024-03-18 23:40:19,755] Trial 84 finished with value: 100.0 and parameters: {'h': 0.1396324493944623, 'Kernel': 'gaussian', 'Metric': 'manhattan'}. Best is trial 18 with value: 100.0.\n",
      "[I 2024-03-18 23:40:19,793] Trial 85 finished with value: 100.0 and parameters: {'h': 0.2567134417280166, 'Kernel': 'gaussian', 'Metric': 'manhattan'}. Best is trial 18 with value: 100.0.\n",
      "[I 2024-03-18 23:40:19,828] Trial 86 finished with value: 94.79166666666666 and parameters: {'h': 0.010423422507234114, 'Kernel': 'gaussian', 'Metric': 'manhattan'}. Best is trial 18 with value: 100.0.\n",
      "[I 2024-03-18 23:40:19,860] Trial 87 finished with value: 76.04166666666666 and parameters: {'h': 0.08527358700883746, 'Kernel': 'uniform', 'Metric': 'euclidean'}. Best is trial 18 with value: 100.0.\n",
      "[I 2024-03-18 23:40:19,895] Trial 88 finished with value: 92.70833333333334 and parameters: {'h': 0.2081782890251023, 'Kernel': 'gaussian', 'Metric': 'cosine'}. Best is trial 18 with value: 100.0.\n",
      "[I 2024-03-18 23:40:19,930] Trial 89 finished with value: 94.79166666666666 and parameters: {'h': 0.4251315942872928, 'Kernel': 'epanechnikov', 'Metric': 'manhattan'}. Best is trial 18 with value: 100.0.\n",
      "[I 2024-03-18 23:40:19,965] Trial 90 finished with value: 100.0 and parameters: {'h': 0.046092362181297794, 'Kernel': 'gaussian', 'Metric': 'manhattan'}. Best is trial 18 with value: 100.0.\n",
      "[I 2024-03-18 23:40:20,002] Trial 91 finished with value: 100.0 and parameters: {'h': 0.3145832369261378, 'Kernel': 'gaussian', 'Metric': 'manhattan'}. Best is trial 18 with value: 100.0.\n",
      "[I 2024-03-18 23:40:20,047] Trial 92 finished with value: 100.0 and parameters: {'h': 0.2858521671639075, 'Kernel': 'gaussian', 'Metric': 'manhattan'}. Best is trial 18 with value: 100.0.\n",
      "[I 2024-03-18 23:40:20,084] Trial 93 finished with value: 97.91666666666666 and parameters: {'h': 0.36425143344011196, 'Kernel': 'gaussian', 'Metric': 'manhattan'}. Best is trial 18 with value: 100.0.\n",
      "[I 2024-03-18 23:40:20,122] Trial 94 finished with value: 100.0 and parameters: {'h': 0.18729406846833604, 'Kernel': 'gaussian', 'Metric': 'manhattan'}. Best is trial 18 with value: 100.0.\n",
      "[I 2024-03-18 23:40:20,155] Trial 95 finished with value: 98.95833333333334 and parameters: {'h': 0.33699789388028506, 'Kernel': 'gaussian', 'Metric': 'manhattan'}. Best is trial 18 with value: 100.0.\n",
      "[I 2024-03-18 23:40:20,189] Trial 96 finished with value: 100.0 and parameters: {'h': 0.15564160457360657, 'Kernel': 'gaussian', 'Metric': 'manhattan'}. Best is trial 18 with value: 100.0.\n",
      "[I 2024-03-18 23:40:20,226] Trial 97 finished with value: 100.0 and parameters: {'h': 0.24833139806909535, 'Kernel': 'gaussian', 'Metric': 'manhattan'}. Best is trial 18 with value: 100.0.\n",
      "[I 2024-03-18 23:40:20,260] Trial 98 finished with value: 100.0 and parameters: {'h': 0.10973863704411876, 'Kernel': 'gaussian', 'Metric': 'manhattan'}. Best is trial 18 with value: 100.0.\n",
      "[I 2024-03-18 23:40:20,295] Trial 99 finished with value: 98.95833333333334 and parameters: {'h': 0.6152115807568643, 'Kernel': 'triangular', 'Metric': 'manhattan'}. Best is trial 18 with value: 100.0.\n"
     ]
    }
   ],
   "source": [
    "kr_map = {\"uniform\": Kernel.UNIFORM, \"triangular\": Kernel.TRIANGULAR, \"epanechnikov\": Kernel.EPANECHNIKOV,\n",
    "          \"gaussian\": Kernel.GAUSSIAN}\n",
    "mt_map = {\"manhattan\": Metric.MANHATTAN, \"euclidean\": Metric.EUCLIDEAN, \"cosine\": Metric.COSINE}\n",
    "\n",
    "\n",
    "def my_objective(window_type, trial):\n",
    "    if window_type == WindowType.FIXED:\n",
    "        window_param = trial.suggest_float(\"h\", 0.01, 1)\n",
    "    else:\n",
    "        window_param = trial.suggest_int(\"k\", 1, 100)\n",
    "    kernel = trial.suggest_categorical(\"Kernel\", [\"uniform\", \"triangular\", \"epanechnikov\", \"gaussian\"])\n",
    "    metric = trial.suggest_categorical(\"Metric\", [\"manhattan\", \"euclidean\", \"cosine\"])\n",
    "    predictions = KNN.KNN(window_param, window_type, kr_map[kernel], mt_map[metric]).fit(X_train, y_train, default_weights).predict(X_test)\n",
    "    y_test_list = y_test.to_list()\n",
    "    correct = 0\n",
    "    for i in range(len(y_test_list)):\n",
    "        if y_test_list[i] == predictions[i]:\n",
    "            correct += 1\n",
    "    accuracy = correct / len(y_test_list) * 100\n",
    "    return accuracy\n",
    "\n",
    "\n",
    "my_fixed = lambda trial: my_objective(WindowType.FIXED, trial)\n",
    "my_variable = lambda trial: my_objective(WindowType.VARIABLE, trial)\n",
    "\n",
    "study = optuna.create_study(direction=\"maximize\")\n",
    "study.optimize(my_fixed, n_trials=100)\n",
    "best_fixed = study.best_trial"
   ],
   "metadata": {
    "collapsed": false,
    "ExecuteTime": {
     "end_time": "2024-03-18T20:40:20.314249700Z",
     "start_time": "2024-03-18T20:40:16.875195500Z"
    }
   },
   "id": "1d6c9afe6f6686cf"
  },
  {
   "cell_type": "code",
   "execution_count": 258,
   "outputs": [
    {
     "name": "stderr",
     "output_type": "stream",
     "text": [
      "[I 2024-03-18 23:40:20,302] A new study created in memory with name: no-name-90a32249-876b-4059-a7ae-0f900b468626\n",
      "[I 2024-03-18 23:40:20,332] Trial 0 finished with value: 89.58333333333334 and parameters: {'k': 17, 'Kernel': 'uniform', 'Metric': 'manhattan'}. Best is trial 0 with value: 89.58333333333334.\n",
      "[I 2024-03-18 23:40:20,361] Trial 1 finished with value: 54.166666666666664 and parameters: {'k': 52, 'Kernel': 'uniform', 'Metric': 'euclidean'}. Best is trial 0 with value: 89.58333333333334.\n",
      "[I 2024-03-18 23:40:20,391] Trial 2 finished with value: 46.875 and parameters: {'k': 85, 'Kernel': 'uniform', 'Metric': 'cosine'}. Best is trial 0 with value: 89.58333333333334.\n",
      "[I 2024-03-18 23:40:20,423] Trial 3 finished with value: 73.95833333333334 and parameters: {'k': 55, 'Kernel': 'epanechnikov', 'Metric': 'euclidean'}. Best is trial 0 with value: 89.58333333333334.\n",
      "[I 2024-03-18 23:40:20,459] Trial 4 finished with value: 66.66666666666666 and parameters: {'k': 92, 'Kernel': 'gaussian', 'Metric': 'cosine'}. Best is trial 0 with value: 89.58333333333334.\n",
      "[I 2024-03-18 23:40:20,487] Trial 5 finished with value: 96.875 and parameters: {'k': 9, 'Kernel': 'gaussian', 'Metric': 'manhattan'}. Best is trial 5 with value: 96.875.\n",
      "[I 2024-03-18 23:40:20,521] Trial 6 finished with value: 67.70833333333334 and parameters: {'k': 74, 'Kernel': 'gaussian', 'Metric': 'cosine'}. Best is trial 5 with value: 96.875.\n",
      "[I 2024-03-18 23:40:20,550] Trial 7 finished with value: 77.08333333333334 and parameters: {'k': 41, 'Kernel': 'uniform', 'Metric': 'euclidean'}. Best is trial 5 with value: 96.875.\n",
      "[I 2024-03-18 23:40:20,582] Trial 8 finished with value: 95.83333333333334 and parameters: {'k': 49, 'Kernel': 'triangular', 'Metric': 'euclidean'}. Best is trial 5 with value: 96.875.\n",
      "[I 2024-03-18 23:40:20,601] Trial 9 finished with value: 26.041666666666668 and parameters: {'k': 88, 'Kernel': 'uniform', 'Metric': 'manhattan'}. Best is trial 5 with value: 96.875.\n",
      "[I 2024-03-18 23:40:20,637] Trial 10 finished with value: 100.0 and parameters: {'k': 2, 'Kernel': 'gaussian', 'Metric': 'manhattan'}. Best is trial 10 with value: 100.0.\n",
      "[I 2024-03-18 23:40:20,675] Trial 11 finished with value: 97.91666666666666 and parameters: {'k': 3, 'Kernel': 'gaussian', 'Metric': 'manhattan'}. Best is trial 10 with value: 100.0.\n",
      "[I 2024-03-18 23:40:20,715] Trial 12 finished with value: 100.0 and parameters: {'k': 2, 'Kernel': 'gaussian', 'Metric': 'manhattan'}. Best is trial 10 with value: 100.0.\n",
      "[I 2024-03-18 23:40:20,750] Trial 13 finished with value: 89.58333333333334 and parameters: {'k': 27, 'Kernel': 'gaussian', 'Metric': 'manhattan'}. Best is trial 10 with value: 100.0.\n",
      "[I 2024-03-18 23:40:20,787] Trial 14 finished with value: 96.875 and parameters: {'k': 26, 'Kernel': 'triangular', 'Metric': 'manhattan'}. Best is trial 10 with value: 100.0.\n",
      "[I 2024-03-18 23:40:20,820] Trial 15 finished with value: 100.0 and parameters: {'k': 1, 'Kernel': 'epanechnikov', 'Metric': 'manhattan'}. Best is trial 10 with value: 100.0.\n",
      "[I 2024-03-18 23:40:20,856] Trial 16 finished with value: 90.625 and parameters: {'k': 23, 'Kernel': 'gaussian', 'Metric': 'manhattan'}. Best is trial 10 with value: 100.0.\n",
      "[I 2024-03-18 23:40:20,893] Trial 17 finished with value: 85.41666666666666 and parameters: {'k': 37, 'Kernel': 'gaussian', 'Metric': 'manhattan'}. Best is trial 10 with value: 100.0.\n",
      "[I 2024-03-18 23:40:20,929] Trial 18 finished with value: 92.70833333333334 and parameters: {'k': 15, 'Kernel': 'gaussian', 'Metric': 'manhattan'}. Best is trial 10 with value: 100.0.\n",
      "[I 2024-03-18 23:40:20,965] Trial 19 finished with value: 87.5 and parameters: {'k': 35, 'Kernel': 'epanechnikov', 'Metric': 'cosine'}. Best is trial 10 with value: 100.0.\n",
      "[I 2024-03-18 23:40:21,006] Trial 20 finished with value: 72.91666666666666 and parameters: {'k': 67, 'Kernel': 'triangular', 'Metric': 'manhattan'}. Best is trial 10 with value: 100.0.\n",
      "[I 2024-03-18 23:40:21,041] Trial 21 finished with value: 100.0 and parameters: {'k': 3, 'Kernel': 'epanechnikov', 'Metric': 'manhattan'}. Best is trial 10 with value: 100.0.\n",
      "[I 2024-03-18 23:40:21,077] Trial 22 finished with value: 100.0 and parameters: {'k': 2, 'Kernel': 'epanechnikov', 'Metric': 'manhattan'}. Best is trial 10 with value: 100.0.\n",
      "[I 2024-03-18 23:40:21,113] Trial 23 finished with value: 96.875 and parameters: {'k': 13, 'Kernel': 'epanechnikov', 'Metric': 'manhattan'}. Best is trial 10 with value: 100.0.\n",
      "[I 2024-03-18 23:40:21,154] Trial 24 finished with value: 97.91666666666666 and parameters: {'k': 9, 'Kernel': 'epanechnikov', 'Metric': 'manhattan'}. Best is trial 10 with value: 100.0.\n",
      "[I 2024-03-18 23:40:21,189] Trial 25 finished with value: 100.0 and parameters: {'k': 1, 'Kernel': 'gaussian', 'Metric': 'manhattan'}. Best is trial 10 with value: 100.0.\n",
      "[I 2024-03-18 23:40:21,226] Trial 26 finished with value: 90.625 and parameters: {'k': 20, 'Kernel': 'gaussian', 'Metric': 'manhattan'}. Best is trial 10 with value: 100.0.\n",
      "[I 2024-03-18 23:40:21,266] Trial 27 finished with value: 96.875 and parameters: {'k': 30, 'Kernel': 'epanechnikov', 'Metric': 'manhattan'}. Best is trial 10 with value: 100.0.\n",
      "[I 2024-03-18 23:40:21,296] Trial 28 finished with value: 70.83333333333334 and parameters: {'k': 100, 'Kernel': 'triangular', 'Metric': 'euclidean'}. Best is trial 10 with value: 100.0.\n",
      "[I 2024-03-18 23:40:21,369] Trial 29 finished with value: 92.70833333333334 and parameters: {'k': 17, 'Kernel': 'gaussian', 'Metric': 'cosine'}. Best is trial 10 with value: 100.0.\n",
      "[I 2024-03-18 23:40:21,410] Trial 30 finished with value: 96.875 and parameters: {'k': 10, 'Kernel': 'epanechnikov', 'Metric': 'manhattan'}. Best is trial 10 with value: 100.0.\n",
      "[I 2024-03-18 23:40:21,449] Trial 31 finished with value: 98.95833333333334 and parameters: {'k': 6, 'Kernel': 'epanechnikov', 'Metric': 'manhattan'}. Best is trial 10 with value: 100.0.\n",
      "[I 2024-03-18 23:40:21,487] Trial 32 finished with value: 96.875 and parameters: {'k': 17, 'Kernel': 'epanechnikov', 'Metric': 'manhattan'}. Best is trial 10 with value: 100.0.\n",
      "[I 2024-03-18 23:40:21,522] Trial 33 finished with value: 100.0 and parameters: {'k': 1, 'Kernel': 'epanechnikov', 'Metric': 'manhattan'}. Best is trial 10 with value: 100.0.\n",
      "[I 2024-03-18 23:40:21,557] Trial 34 finished with value: 95.83333333333334 and parameters: {'k': 8, 'Kernel': 'uniform', 'Metric': 'manhattan'}. Best is trial 10 with value: 100.0.\n",
      "[I 2024-03-18 23:40:21,594] Trial 35 finished with value: 96.875 and parameters: {'k': 20, 'Kernel': 'epanechnikov', 'Metric': 'euclidean'}. Best is trial 10 with value: 100.0.\n",
      "[I 2024-03-18 23:40:21,629] Trial 36 finished with value: 92.70833333333334 and parameters: {'k': 11, 'Kernel': 'gaussian', 'Metric': 'cosine'}. Best is trial 10 with value: 100.0.\n",
      "[I 2024-03-18 23:40:21,672] Trial 37 finished with value: 72.91666666666666 and parameters: {'k': 60, 'Kernel': 'epanechnikov', 'Metric': 'manhattan'}. Best is trial 10 with value: 100.0.\n",
      "[I 2024-03-18 23:40:21,706] Trial 38 finished with value: 97.91666666666666 and parameters: {'k': 4, 'Kernel': 'uniform', 'Metric': 'manhattan'}. Best is trial 10 with value: 100.0.\n",
      "[I 2024-03-18 23:40:21,749] Trial 39 finished with value: 67.70833333333334 and parameters: {'k': 79, 'Kernel': 'gaussian', 'Metric': 'cosine'}. Best is trial 10 with value: 100.0.\n",
      "[I 2024-03-18 23:40:21,789] Trial 40 finished with value: 95.83333333333334 and parameters: {'k': 44, 'Kernel': 'epanechnikov', 'Metric': 'euclidean'}. Best is trial 10 with value: 100.0.\n",
      "[I 2024-03-18 23:40:21,822] Trial 41 finished with value: 98.95833333333334 and parameters: {'k': 6, 'Kernel': 'epanechnikov', 'Metric': 'manhattan'}. Best is trial 10 with value: 100.0.\n",
      "[I 2024-03-18 23:40:21,858] Trial 42 finished with value: 100.0 and parameters: {'k': 1, 'Kernel': 'epanechnikov', 'Metric': 'manhattan'}. Best is trial 10 with value: 100.0.\n",
      "[I 2024-03-18 23:40:21,895] Trial 43 finished with value: 96.875 and parameters: {'k': 13, 'Kernel': 'epanechnikov', 'Metric': 'manhattan'}. Best is trial 10 with value: 100.0.\n",
      "[I 2024-03-18 23:40:21,927] Trial 44 finished with value: 98.95833333333334 and parameters: {'k': 6, 'Kernel': 'epanechnikov', 'Metric': 'manhattan'}. Best is trial 10 with value: 100.0.\n",
      "[I 2024-03-18 23:40:21,962] Trial 45 finished with value: 93.75 and parameters: {'k': 12, 'Kernel': 'gaussian', 'Metric': 'manhattan'}. Best is trial 10 with value: 100.0.\n",
      "[I 2024-03-18 23:40:21,995] Trial 46 finished with value: 96.875 and parameters: {'k': 22, 'Kernel': 'triangular', 'Metric': 'manhattan'}. Best is trial 10 with value: 100.0.\n",
      "[I 2024-03-18 23:40:22,030] Trial 47 finished with value: 100.0 and parameters: {'k': 1, 'Kernel': 'uniform', 'Metric': 'euclidean'}. Best is trial 10 with value: 100.0.\n",
      "[I 2024-03-18 23:40:22,064] Trial 48 finished with value: 98.95833333333334 and parameters: {'k': 6, 'Kernel': 'gaussian', 'Metric': 'manhattan'}. Best is trial 10 with value: 100.0.\n",
      "[I 2024-03-18 23:40:22,102] Trial 49 finished with value: 96.875 and parameters: {'k': 30, 'Kernel': 'epanechnikov', 'Metric': 'manhattan'}. Best is trial 10 with value: 100.0.\n"
     ]
    }
   ],
   "source": [
    "study = optuna.create_study(direction=\"maximize\")\n",
    "study.optimize(my_variable, n_trials=50)"
   ],
   "metadata": {
    "collapsed": false,
    "ExecuteTime": {
     "end_time": "2024-03-18T20:40:22.115343200Z",
     "start_time": "2024-03-18T20:40:20.302148900Z"
    }
   },
   "id": "7bbd3c220954aa9e"
  },
  {
   "cell_type": "code",
   "execution_count": 259,
   "outputs": [
    {
     "name": "stdout",
     "output_type": "stream",
     "text": [
      "fixed window {'h': 0.15078779366411887, 'Kernel': 'gaussian', 'Metric': 'manhattan'}\n",
      "variable window {'k': 2, 'Kernel': 'gaussian', 'Metric': 'manhattan'}\n"
     ]
    }
   ],
   "source": [
    "print(\"fixed window\", best_fixed.params)\n",
    "print(\"variable window\", study.best_trial.params)"
   ],
   "metadata": {
    "collapsed": false,
    "ExecuteTime": {
     "end_time": "2024-03-18T20:40:22.115343200Z",
     "start_time": "2024-03-18T20:40:22.108079300Z"
    }
   },
   "id": "a939a8a93c6729b7"
  },
  {
   "cell_type": "code",
   "execution_count": 260,
   "outputs": [
    {
     "name": "stderr",
     "output_type": "stream",
     "text": [
      "[I 2024-03-18 23:40:22,932] A new study created in memory with name: no-name-bb82ed99-9ae6-4d17-8782-eb4aabd33231\n",
      "[I 2024-03-18 23:40:22,945] Trial 0 finished with value: 15.625 and parameters: {'k': 99, 'Weight function': 'uniform', 'NN Algorithm': 'kd_tree', 'Minkowski degree': 1.573368418188637}. Best is trial 0 with value: 15.625.\n",
      "[I 2024-03-18 23:40:22,959] Trial 1 finished with value: 16.666666666666664 and parameters: {'k': 40, 'Weight function': 'uniform', 'NN Algorithm': 'brute', 'Minkowski degree': 2.8474095105772723}. Best is trial 1 with value: 16.666666666666664.\n",
      "[I 2024-03-18 23:40:22,970] Trial 2 finished with value: 14.583333333333334 and parameters: {'k': 64, 'Weight function': 'distance', 'NN Algorithm': 'brute', 'Minkowski degree': 3.5633462852178646}. Best is trial 1 with value: 16.666666666666664.\n",
      "[I 2024-03-18 23:40:22,981] Trial 3 finished with value: 14.583333333333334 and parameters: {'k': 20, 'Weight function': 'distance', 'NN Algorithm': 'brute', 'Minkowski degree': 3.6484686178959786}. Best is trial 1 with value: 16.666666666666664.\n",
      "[I 2024-03-18 23:40:22,997] Trial 4 finished with value: 15.625 and parameters: {'k': 97, 'Weight function': 'uniform', 'NN Algorithm': 'ball_tree', 'Minkowski degree': 4.94652672838816}. Best is trial 1 with value: 16.666666666666664.\n",
      "[I 2024-03-18 23:40:23,005] Trial 5 finished with value: 14.583333333333334 and parameters: {'k': 39, 'Weight function': 'distance', 'NN Algorithm': 'kd_tree', 'Minkowski degree': 4.758292650346171}. Best is trial 1 with value: 16.666666666666664.\n",
      "[I 2024-03-18 23:40:23,015] Trial 6 finished with value: 14.583333333333334 and parameters: {'k': 32, 'Weight function': 'distance', 'NN Algorithm': 'kd_tree', 'Minkowski degree': 1.9777782959374854}. Best is trial 1 with value: 16.666666666666664.\n",
      "[I 2024-03-18 23:40:23,025] Trial 7 finished with value: 14.583333333333334 and parameters: {'k': 22, 'Weight function': 'distance', 'NN Algorithm': 'brute', 'Minkowski degree': 3.069831049584548}. Best is trial 1 with value: 16.666666666666664.\n",
      "[I 2024-03-18 23:40:23,037] Trial 8 finished with value: 14.583333333333334 and parameters: {'k': 31, 'Weight function': 'distance', 'NN Algorithm': 'brute', 'Minkowski degree': 4.454606765027625}. Best is trial 1 with value: 16.666666666666664.\n",
      "[I 2024-03-18 23:40:23,050] Trial 9 finished with value: 14.583333333333334 and parameters: {'k': 13, 'Weight function': 'uniform', 'NN Algorithm': 'ball_tree', 'Minkowski degree': 2.3478724713160566}. Best is trial 1 with value: 16.666666666666664.\n",
      "[I 2024-03-18 23:40:23,077] Trial 10 finished with value: 14.583333333333334 and parameters: {'k': 62, 'Weight function': 'uniform', 'NN Algorithm': 'brute', 'Minkowski degree': 1.254824758908994}. Best is trial 1 with value: 16.666666666666664.\n",
      "[I 2024-03-18 23:40:23,098] Trial 11 finished with value: 15.625 and parameters: {'k': 100, 'Weight function': 'uniform', 'NN Algorithm': 'kd_tree', 'Minkowski degree': 1.398371909798863}. Best is trial 1 with value: 16.666666666666664.\n",
      "[I 2024-03-18 23:40:23,119] Trial 12 finished with value: 17.708333333333336 and parameters: {'k': 77, 'Weight function': 'uniform', 'NN Algorithm': 'kd_tree', 'Minkowski degree': 2.2503690323781704}. Best is trial 12 with value: 17.708333333333336.\n",
      "[I 2024-03-18 23:40:23,141] Trial 13 finished with value: 17.708333333333336 and parameters: {'k': 78, 'Weight function': 'uniform', 'NN Algorithm': 'kd_tree', 'Minkowski degree': 2.5690110928275063}. Best is trial 12 with value: 17.708333333333336.\n",
      "[I 2024-03-18 23:40:23,163] Trial 14 finished with value: 17.708333333333336 and parameters: {'k': 79, 'Weight function': 'uniform', 'NN Algorithm': 'kd_tree', 'Minkowski degree': 2.3473388235695567}. Best is trial 12 with value: 17.708333333333336.\n",
      "[I 2024-03-18 23:40:23,190] Trial 15 finished with value: 17.708333333333336 and parameters: {'k': 79, 'Weight function': 'uniform', 'NN Algorithm': 'kd_tree', 'Minkowski degree': 2.6762727876549324}. Best is trial 12 with value: 17.708333333333336.\n",
      "[I 2024-03-18 23:40:23,230] Trial 16 finished with value: 16.666666666666664 and parameters: {'k': 80, 'Weight function': 'uniform', 'NN Algorithm': 'kd_tree', 'Minkowski degree': 3.451002637082266}. Best is trial 12 with value: 17.708333333333336.\n",
      "[I 2024-03-18 23:40:23,268] Trial 17 finished with value: 16.666666666666664 and parameters: {'k': 60, 'Weight function': 'uniform', 'NN Algorithm': 'kd_tree', 'Minkowski degree': 2.0054144904725146}. Best is trial 12 with value: 17.708333333333336.\n",
      "[I 2024-03-18 23:40:23,291] Trial 18 finished with value: 16.666666666666664 and parameters: {'k': 87, 'Weight function': 'uniform', 'NN Algorithm': 'ball_tree', 'Minkowski degree': 3.9280728505732925}. Best is trial 12 with value: 17.708333333333336.\n",
      "[I 2024-03-18 23:40:23,313] Trial 19 finished with value: 16.666666666666664 and parameters: {'k': 52, 'Weight function': 'uniform', 'NN Algorithm': 'kd_tree', 'Minkowski degree': 1.8927083995567822}. Best is trial 12 with value: 17.708333333333336.\n",
      "[I 2024-03-18 23:40:23,336] Trial 20 finished with value: 15.625 and parameters: {'k': 71, 'Weight function': 'uniform', 'NN Algorithm': 'kd_tree', 'Minkowski degree': 3.1679606981659116}. Best is trial 12 with value: 17.708333333333336.\n",
      "[I 2024-03-18 23:40:23,362] Trial 21 finished with value: 17.708333333333336 and parameters: {'k': 82, 'Weight function': 'uniform', 'NN Algorithm': 'kd_tree', 'Minkowski degree': 2.38588797742274}. Best is trial 12 with value: 17.708333333333336.\n",
      "[I 2024-03-18 23:40:23,386] Trial 22 finished with value: 16.666666666666664 and parameters: {'k': 70, 'Weight function': 'uniform', 'NN Algorithm': 'kd_tree', 'Minkowski degree': 2.4914201134422242}. Best is trial 12 with value: 17.708333333333336.\n",
      "[I 2024-03-18 23:40:23,412] Trial 23 finished with value: 15.625 and parameters: {'k': 89, 'Weight function': 'uniform', 'NN Algorithm': 'kd_tree', 'Minkowski degree': 1.0466092510436171}. Best is trial 12 with value: 17.708333333333336.\n",
      "[I 2024-03-18 23:40:23,437] Trial 24 finished with value: 17.708333333333336 and parameters: {'k': 74, 'Weight function': 'uniform', 'NN Algorithm': 'kd_tree', 'Minkowski degree': 2.2165473125519255}. Best is trial 12 with value: 17.708333333333336.\n",
      "[I 2024-03-18 23:40:23,465] Trial 25 finished with value: 16.666666666666664 and parameters: {'k': 50, 'Weight function': 'uniform', 'NN Algorithm': 'ball_tree', 'Minkowski degree': 2.72435948631906}. Best is trial 12 with value: 17.708333333333336.\n",
      "[I 2024-03-18 23:40:23,488] Trial 26 finished with value: 17.708333333333336 and parameters: {'k': 92, 'Weight function': 'uniform', 'NN Algorithm': 'kd_tree', 'Minkowski degree': 1.7167458154331654}. Best is trial 12 with value: 17.708333333333336.\n",
      "[I 2024-03-18 23:40:23,511] Trial 27 finished with value: 18.75 and parameters: {'k': 55, 'Weight function': 'uniform', 'NN Algorithm': 'kd_tree', 'Minkowski degree': 3.1795519968035224}. Best is trial 27 with value: 18.75.\n",
      "[I 2024-03-18 23:40:23,537] Trial 28 finished with value: 18.75 and parameters: {'k': 55, 'Weight function': 'uniform', 'NN Algorithm': 'kd_tree', 'Minkowski degree': 3.2471593991202368}. Best is trial 27 with value: 18.75.\n",
      "[I 2024-03-18 23:40:23,560] Trial 29 finished with value: 17.708333333333336 and parameters: {'k': 54, 'Weight function': 'uniform', 'NN Algorithm': 'kd_tree', 'Minkowski degree': 3.99581574917969}. Best is trial 27 with value: 18.75.\n",
      "[I 2024-03-18 23:40:23,580] Trial 30 finished with value: 14.583333333333334 and parameters: {'k': 1, 'Weight function': 'uniform', 'NN Algorithm': 'ball_tree', 'Minkowski degree': 3.3214150843974255}. Best is trial 27 with value: 18.75.\n",
      "[I 2024-03-18 23:40:23,600] Trial 31 finished with value: 16.666666666666664 and parameters: {'k': 47, 'Weight function': 'uniform', 'NN Algorithm': 'kd_tree', 'Minkowski degree': 2.8525017314752388}. Best is trial 27 with value: 18.75.\n",
      "[I 2024-03-18 23:40:23,622] Trial 32 finished with value: 15.625 and parameters: {'k': 67, 'Weight function': 'uniform', 'NN Algorithm': 'kd_tree', 'Minkowski degree': 2.9688121174951023}. Best is trial 27 with value: 18.75.\n",
      "[I 2024-03-18 23:40:23,645] Trial 33 finished with value: 17.708333333333336 and parameters: {'k': 58, 'Weight function': 'uniform', 'NN Algorithm': 'kd_tree', 'Minkowski degree': 3.869046268714668}. Best is trial 27 with value: 18.75.\n",
      "[I 2024-03-18 23:40:23,667] Trial 34 finished with value: 16.666666666666664 and parameters: {'k': 43, 'Weight function': 'uniform', 'NN Algorithm': 'kd_tree', 'Minkowski degree': 3.2459732690631764}. Best is trial 27 with value: 18.75.\n",
      "[I 2024-03-18 23:40:23,684] Trial 35 finished with value: 14.583333333333334 and parameters: {'k': 65, 'Weight function': 'distance', 'NN Algorithm': 'kd_tree', 'Minkowski degree': 3.7121143104297074}. Best is trial 27 with value: 18.75.\n",
      "[I 2024-03-18 23:40:23,705] Trial 36 finished with value: 17.708333333333336 and parameters: {'k': 57, 'Weight function': 'uniform', 'NN Algorithm': 'kd_tree', 'Minkowski degree': 4.2389002963746805}. Best is trial 27 with value: 18.75.\n",
      "[I 2024-03-18 23:40:23,725] Trial 37 finished with value: 14.583333333333334 and parameters: {'k': 35, 'Weight function': 'distance', 'NN Algorithm': 'brute', 'Minkowski degree': 2.5778882576199775}. Best is trial 27 with value: 18.75.\n",
      "[I 2024-03-18 23:40:23,748] Trial 38 finished with value: 17.708333333333336 and parameters: {'k': 75, 'Weight function': 'uniform', 'NN Algorithm': 'kd_tree', 'Minkowski degree': 2.854824249777199}. Best is trial 27 with value: 18.75.\n",
      "[I 2024-03-18 23:40:23,800] Trial 39 finished with value: 14.583333333333334 and parameters: {'k': 94, 'Weight function': 'distance', 'NN Algorithm': 'brute', 'Minkowski degree': 2.1422822293264696}. Best is trial 27 with value: 18.75.\n",
      "[I 2024-03-18 23:40:23,827] Trial 40 finished with value: 15.625 and parameters: {'k': 45, 'Weight function': 'uniform', 'NN Algorithm': 'ball_tree', 'Minkowski degree': 3.618606066529816}. Best is trial 27 with value: 18.75.\n",
      "[I 2024-03-18 23:40:23,854] Trial 41 finished with value: 17.708333333333336 and parameters: {'k': 84, 'Weight function': 'uniform', 'NN Algorithm': 'kd_tree', 'Minkowski degree': 3.0674538532818305}. Best is trial 27 with value: 18.75.\n",
      "[I 2024-03-18 23:40:23,881] Trial 42 finished with value: 17.708333333333336 and parameters: {'k': 77, 'Weight function': 'uniform', 'NN Algorithm': 'kd_tree', 'Minkowski degree': 2.255957333973588}. Best is trial 27 with value: 18.75.\n",
      "[I 2024-03-18 23:40:23,908] Trial 43 finished with value: 15.625 and parameters: {'k': 68, 'Weight function': 'uniform', 'NN Algorithm': 'kd_tree', 'Minkowski degree': 1.831609804930176}. Best is trial 27 with value: 18.75.\n",
      "[I 2024-03-18 23:40:23,934] Trial 44 finished with value: 16.666666666666664 and parameters: {'k': 26, 'Weight function': 'uniform', 'NN Algorithm': 'kd_tree', 'Minkowski degree': 2.5005286201210595}. Best is trial 27 with value: 18.75.\n",
      "[I 2024-03-18 23:40:23,957] Trial 45 finished with value: 15.625 and parameters: {'k': 62, 'Weight function': 'uniform', 'NN Algorithm': 'kd_tree', 'Minkowski degree': 3.406619321832314}. Best is trial 27 with value: 18.75.\n",
      "[I 2024-03-18 23:40:23,979] Trial 46 finished with value: 14.583333333333334 and parameters: {'k': 85, 'Weight function': 'distance', 'NN Algorithm': 'brute', 'Minkowski degree': 1.62014934604227}. Best is trial 27 with value: 18.75.\n",
      "[I 2024-03-18 23:40:24,007] Trial 47 finished with value: 16.666666666666664 and parameters: {'k': 39, 'Weight function': 'uniform', 'NN Algorithm': 'kd_tree', 'Minkowski degree': 2.6811198863930414}. Best is trial 27 with value: 18.75.\n",
      "[I 2024-03-18 23:40:24,077] Trial 48 finished with value: 16.666666666666664 and parameters: {'k': 73, 'Weight function': 'uniform', 'NN Algorithm': 'kd_tree', 'Minkowski degree': 2.964929598354754}. Best is trial 27 with value: 18.75.\n",
      "[I 2024-03-18 23:40:24,101] Trial 49 finished with value: 16.666666666666664 and parameters: {'k': 96, 'Weight function': 'uniform', 'NN Algorithm': 'kd_tree', 'Minkowski degree': 2.0100430693661324}. Best is trial 27 with value: 18.75.\n"
     ]
    }
   ],
   "source": [
    "def lib(trial):\n",
    "    n_neighbors = trial.suggest_int(\"k\", 1, 100)\n",
    "    weights = trial.suggest_categorical(\"Weight function\", [\"uniform\", \"distance\"])\n",
    "    algorithm = trial.suggest_categorical(\"NN Algorithm\", [\"ball_tree\", \"kd_tree\", \"brute\"])\n",
    "    p = trial.suggest_float(\"Minkowski degree\", 1, 5)\n",
    "    predictions = KNeighborsClassifier(n_neighbors, weights=weights, algorithm=algorithm, p=p).fit(X_train, y_train).predict(X_train)\n",
    "    y_test_list = y_test.to_list()\n",
    "    correct = 0\n",
    "    for i in range(len(y_test_list)):\n",
    "        if y_test_list[i] == predictions[i]:\n",
    "            correct += 1\n",
    "    accuracy = correct / len(y_test_list) * 100\n",
    "    return accuracy\n",
    "\n",
    "\n",
    "lib_objective_fixed = lambda trial: lib(trial)\n",
    "lib_objective_variable = lambda trial: lib(trial)\n",
    "\n",
    "study = optuna.create_study(direction=\"maximize\")\n",
    "study.optimize(lib, n_trials=50)"
   ],
   "metadata": {
    "collapsed": false,
    "ExecuteTime": {
     "end_time": "2024-03-18T20:40:24.112992400Z",
     "start_time": "2024-03-18T20:40:22.932573600Z"
    }
   },
   "id": "8798cde1cb7d25ae"
  },
  {
   "cell_type": "code",
   "execution_count": 261,
   "outputs": [
    {
     "name": "stdout",
     "output_type": "stream",
     "text": [
      "sklearn {'k': 55, 'Weight function': 'uniform', 'NN Algorithm': 'kd_tree', 'Minkowski degree': 3.1795519968035224}\n"
     ]
    }
   ],
   "source": [
    "print(\"sklearn\", study.best_trial.params)"
   ],
   "metadata": {
    "collapsed": false,
    "ExecuteTime": {
     "end_time": "2024-03-18T20:40:25.000143Z",
     "start_time": "2024-03-18T20:40:24.993138100Z"
    }
   },
   "id": "6d4dc1762d60989b"
  },
  {
   "cell_type": "markdown",
   "source": [
    "# Comparison"
   ],
   "metadata": {
    "collapsed": false
   },
   "id": "6ee4f641fdef7644"
  },
  {
   "cell_type": "code",
   "execution_count": 262,
   "outputs": [],
   "source": [
    "def accuracy(k, X, y):\n",
    "    predictions = KNN.KNN(k, WindowType.VARIABLE, Kernel.TRIANGULAR, Metric.MANHATTAN).fit(X_train, y_train, default_weights).predict(X)\n",
    "    y_list = y.to_list()\n",
    "    correct = 0\n",
    "    for i in range(len(y_list)):\n",
    "        if y_list[i] == predictions[i]:\n",
    "            correct += 1\n",
    "    accuracy = correct / len(y_list) * 100\n",
    "    return accuracy\n",
    "\n",
    "\n",
    "def lib_accuracy(k, X, y):\n",
    "    predictions = KNeighborsClassifier(n_neighbors=k, weights='uniform', algorithm='ball_tree', p=2).fit(X_train, y_train).predict(X)\n",
    "    y_list = y.to_list()\n",
    "    correct = 0\n",
    "    for i in range(len(y_list)):\n",
    "        if y_list[i] == predictions[i]:\n",
    "            correct += 1\n",
    "    accuracy = correct / len(y_list) * 100\n",
    "    return accuracy"
   ],
   "metadata": {
    "collapsed": false,
    "ExecuteTime": {
     "end_time": "2024-03-18T20:40:25.975885100Z",
     "start_time": "2024-03-18T20:40:25.967886100Z"
    }
   },
   "id": "50e228bafe08225e"
  },
  {
   "cell_type": "code",
   "execution_count": 263,
   "outputs": [
    {
     "name": "stdout",
     "output_type": "stream",
     "text": [
      "1 done\n",
      "2 done\n",
      "3 done\n",
      "4 done\n",
      "5 done\n",
      "6 done\n",
      "7 done\n",
      "8 done\n",
      "9 done\n",
      "10 done\n",
      "11 done\n",
      "12 done\n",
      "13 done\n",
      "14 done\n",
      "15 done\n",
      "16 done\n",
      "17 done\n",
      "18 done\n",
      "19 done\n",
      "20 done\n",
      "21 done\n",
      "22 done\n",
      "23 done\n",
      "24 done\n",
      "25 done\n",
      "26 done\n",
      "27 done\n",
      "28 done\n",
      "29 done\n",
      "30 done\n",
      "31 done\n",
      "32 done\n",
      "33 done\n",
      "34 done\n",
      "35 done\n",
      "36 done\n",
      "37 done\n",
      "38 done\n",
      "39 done\n",
      "40 done\n",
      "41 done\n",
      "42 done\n",
      "43 done\n",
      "44 done\n",
      "45 done\n",
      "46 done\n",
      "47 done\n",
      "48 done\n",
      "49 done\n",
      "50 done\n",
      "51 done\n",
      "52 done\n",
      "53 done\n",
      "54 done\n",
      "55 done\n",
      "56 done\n",
      "57 done\n",
      "58 done\n",
      "59 done\n",
      "60 done\n",
      "61 done\n",
      "62 done\n",
      "63 done\n",
      "64 done\n",
      "65 done\n",
      "66 done\n",
      "67 done\n",
      "68 done\n",
      "69 done\n",
      "70 done\n",
      "71 done\n",
      "72 done\n",
      "73 done\n",
      "74 done\n",
      "75 done\n",
      "76 done\n",
      "77 done\n",
      "78 done\n",
      "79 done\n",
      "80 done\n",
      "81 done\n",
      "82 done\n",
      "83 done\n",
      "84 done\n",
      "85 done\n",
      "86 done\n",
      "87 done\n",
      "88 done\n",
      "89 done\n",
      "90 done\n",
      "91 done\n",
      "92 done\n",
      "93 done\n",
      "94 done\n",
      "95 done\n",
      "96 done\n",
      "97 done\n",
      "98 done\n",
      "99 done\n",
      "100 done\n"
     ]
    },
    {
     "data": {
      "text/plain": "Text(0, 0.5, 'Accuracy')"
     },
     "execution_count": 263,
     "metadata": {},
     "output_type": "execute_result"
    },
    {
     "data": {
      "text/plain": "<Figure size 640x480 with 1 Axes>",
      "image/png": "[encoded data removed]"
     },
     "metadata": {},
     "output_type": "display_data"
    }
   ],
   "source": [
    "xs = [x for x in range(1, 101)]\n",
    "ys_train, ys_test, ys_lib_train, ys_lib_test = [], [], [], []\n",
    "for k in xs:\n",
    "    ys_train.append(accuracy(k, X_train, y_train))\n",
    "    ys_test.append(accuracy(k, X_test, y_test))\n",
    "    ys_lib_train.append(lib_accuracy(k, X_train, y_train))\n",
    "    ys_lib_test.append(lib_accuracy(k, X_test, y_test))\n",
    "    print(k, \"done\")\n",
    "\n",
    "plt.plot(xs, ys_train, color='red')\n",
    "plt.plot(xs, ys_test, color='orange')\n",
    "plt.plot(xs, ys_lib_train, color='green')\n",
    "plt.plot(xs, ys_lib_test, color='blue')\n",
    "plt.xlabel('k')\n",
    "plt.ylabel('Accuracy')"
   ],
   "metadata": {
    "collapsed": false,
    "ExecuteTime": {
     "end_time": "2024-03-18T20:40:33.996936300Z",
     "start_time": "2024-03-18T20:40:26.437985Z"
    }
   },
   "id": "6a085f80b8cc2a1f"
  },
  {
   "cell_type": "markdown",
   "source": [
    "# Anomaly detection"
   ],
   "metadata": {
    "collapsed": false
   },
   "id": "14a069306dda0cd6"
  },
  {
   "cell_type": "code",
   "execution_count": 264,
   "outputs": [
    {
     "name": "stdout",
     "output_type": "stream",
     "text": [
      "Accuracy 95.13888888888889\n",
      "Anomalies 1: 5\n",
      "Anomalies 2: 2\n"
     ]
    }
   ],
   "source": [
    "counter = 0\n",
    "success = 0\n",
    "normal, anomalies1, anomalies2 = [], [], []\n",
    "\n",
    "for x_id in X_train.index:\n",
    "    prediction = KNN.KNN(window_param=20, window_type=WindowType.VARIABLE, kernel=Kernel.TRIANGULAR,metric=Metric.MANHATTAN) \\\n",
    "        .fit(X_train.drop(index=x_id), y_train.drop(index=x_id), default_weights).predict(X_train.loc[[x_id]])[0]\n",
    "    counter += 1\n",
    "    true_class = y_train.loc[x_id]\n",
    "    if true_class == prediction:\n",
    "        normal.append(counter - 1)\n",
    "    elif abs(true_class - prediction) == 1:\n",
    "        anomalies1.append(counter - 1)\n",
    "    else:\n",
    "        anomalies2.append(counter - 1)\n",
    "\n",
    "print(\"Accuracy\", len(normal) / counter * 100)\n",
    "print(\"Anomalies 1:\", len(anomalies1))\n",
    "print(\"Anomalies 2:\", len(anomalies2))"
   ],
   "metadata": {
    "collapsed": false,
    "ExecuteTime": {
     "end_time": "2024-03-18T20:40:36.734668100Z",
     "start_time": "2024-03-18T20:40:34.000764Z"
    }
   },
   "id": "edbb636cadb7a969"
  },
  {
   "cell_type": "code",
   "execution_count": 265,
   "outputs": [
    {
     "data": {
      "text/plain": "Text(0, 0.5, 'Accuracy')"
     },
     "execution_count": 265,
     "metadata": {},
     "output_type": "execute_result"
    },
    {
     "data": {
      "text/plain": "<Figure size 640x480 with 1 Axes>",
      "image/png": "[encoded data removed]"
     },
     "metadata": {},
     "output_type": "display_data"
    }
   ],
   "source": [
    "def get_new_weights(w):\n",
    "    new_weights = []\n",
    "    for i in range(len(X_train)):\n",
    "        if i in anomalies1:\n",
    "            new_weights.append(w)\n",
    "        elif i in anomalies2:\n",
    "            new_weights.append(0)\n",
    "        else:\n",
    "            new_weights.append(1)\n",
    "    return new_weights\n",
    "\n",
    "\n",
    "def get_accuracy(w, X, y):\n",
    "    my_knn = KNN.KNN(\n",
    "        window_param=20,\n",
    "        window_type=WindowType.VARIABLE,\n",
    "        kernel=Kernel.TRIANGULAR,\n",
    "        metric=Metric.MANHATTAN,\n",
    "    )\n",
    "    predictions = my_knn.fit(X_train, y_train, get_new_weights(w)).predict(X)\n",
    "    y_test_list = y.to_list()\n",
    "    correct = 0\n",
    "    for i in range(len(y_test_list)):\n",
    "        if y_test_list[i] == predictions[i]:\n",
    "            correct += 1\n",
    "    accuracy = correct / len(y_test_list) * 100\n",
    "    return accuracy\n",
    "\n",
    "\n",
    "xs = [x / 10 for x in range(1, 51)]\n",
    "ys = [get_accuracy(w, X_test, y_test) for w in xs]\n",
    "plt.plot(xs, ys)\n",
    "plt.xlabel('w')\n",
    "plt.ylabel('Accuracy')"
   ],
   "metadata": {
    "collapsed": false,
    "ExecuteTime": {
     "end_time": "2024-03-18T20:40:38.360971300Z",
     "start_time": "2024-03-18T20:40:36.732121900Z"
    }
   },
   "id": "9d8d4b6d032d0bf5"
  },
  {
   "cell_type": "code",
   "execution_count": 266,
   "outputs": [
    {
     "data": {
      "text/plain": "Text(0, 0.5, 'Accuracy')"
     },
     "execution_count": 266,
     "metadata": {},
     "output_type": "execute_result"
    },
    {
     "data": {
      "text/plain": "<Figure size 640x480 with 1 Axes>",
      "image/png": "[encoded data removed]"
     },
     "metadata": {},
     "output_type": "display_data"
    }
   ],
   "source": [
    "ys = [get_accuracy(w, X_train, y_train) for w in xs]\n",
    "plt.plot(xs, ys)\n",
    "plt.xlabel('w')\n",
    "plt.ylabel('Accuracy')"
   ],
   "metadata": {
    "collapsed": false,
    "ExecuteTime": {
     "end_time": "2024-03-18T20:40:40.424013800Z",
     "start_time": "2024-03-18T20:40:38.356911300Z"
    }
   },
   "id": "641b54dddd1438c2"
  },
  {
   "cell_type": "code",
   "execution_count": 267,
   "outputs": [
    {
     "name": "stdout",
     "output_type": "stream",
     "text": [
      "Old 96.875\n",
      "New 98.95833333333334\n"
     ]
    }
   ],
   "source": [
    "def get_lib_accuracy(X, y, X_t, y_t):\n",
    "    lib_knn = KNeighborsClassifier(n_neighbors=10, weights='uniform', algorithm='ball_tree', p=2)\n",
    "    predictions = lib_knn.fit(X, y).predict(X_t)\n",
    "    y_test_list = y_t.to_list()\n",
    "    correct = 0\n",
    "    for i in range(len(y_test_list)):\n",
    "        if y_test_list[i] == predictions[i]:\n",
    "            correct += 1\n",
    "    accuracy = correct / len(y_test_list) * 100\n",
    "    return accuracy\n",
    "\n",
    "\n",
    "X_an, y_an = X_train.iloc[anomalies1], y_train.iloc[anomalies1]\n",
    "X_train_sampled, y_train_sampled = pd.concat([X_train, X_an]), pd.concat([y_train, y_an])\n",
    "\n",
    "print(\"Old\", get_lib_accuracy(X_train, y_train, X_test, y_test))\n",
    "print(\"New\", get_lib_accuracy(X_train_sampled, y_train_sampled, X_test, y_test))"
   ],
   "metadata": {
    "collapsed": false,
    "ExecuteTime": {
     "end_time": "2024-03-18T20:40:40.452561400Z",
     "start_time": "2024-03-18T20:40:40.427518Z"
    }
   },
   "id": "a714c933c78db03"
  }
 ],
 "metadata": {
  "kernelspec": {
   "display_name": "Python 3",
   "language": "python",
   "name": "python3"
  },
  "language_info": {
   "codemirror_mode": {
    "name": "ipython",
    "version": 2
   },
   "file_extension": ".py",
   "mimetype": "text/x-python",
   "name": "python",
   "nbconvert_exporter": "python",
   "pygments_lexer": "ipython2",
   "version": "2.7.6"
  }
 },
 "nbformat": 4,
 "nbformat_minor": 5
}
